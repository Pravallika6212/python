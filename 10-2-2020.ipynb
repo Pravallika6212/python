{
 "cells": [
  {
   "cell_type": "markdown",
   "metadata": {},
   "source": [
    "## Function"
   ]
  },
  {
   "cell_type": "markdown",
   "metadata": {},
   "source": [
    "### its a group of instructions or code\n"
   ]
  },
  {
   "cell_type": "code",
   "execution_count": 1,
   "metadata": {},
   "outputs": [],
   "source": [
    "def square(a,b):\n",
    "    s=(a**2+b**2+2*a*b)\n",
    "    return s"
   ]
  },
  {
   "cell_type": "code",
   "execution_count": 2,
   "metadata": {},
   "outputs": [
    {
     "data": {
      "text/plain": [
       "25"
      ]
     },
     "execution_count": 2,
     "metadata": {},
     "output_type": "execute_result"
    }
   ],
   "source": [
    "square(2,3)"
   ]
  },
  {
   "cell_type": "code",
   "execution_count": 3,
   "metadata": {},
   "outputs": [],
   "source": [
    "#9 its factors r 1 3 9\n",
    "#printing sum of factors\n",
    "def sumfact(n):\n",
    "    i=1\n",
    "    summ=0\n",
    "    for i in range(1,n+1):\n",
    "        if(n%i==0):\n",
    "            summ=summ+i\n",
    "    print(summ)            "
   ]
  },
  {
   "cell_type": "code",
   "execution_count": 4,
   "metadata": {},
   "outputs": [
    {
     "name": "stdout",
     "output_type": "stream",
     "text": [
      "13\n"
     ]
    }
   ],
   "source": [
    "sumfact(9)"
   ]
  },
  {
   "cell_type": "code",
   "execution_count": 5,
   "metadata": {},
   "outputs": [],
   "source": [
    "def dump():\n",
    "    a=10\n",
    "    b=2\n",
    "    return(a*b)\n",
    "    "
   ]
  },
  {
   "cell_type": "code",
   "execution_count": 6,
   "metadata": {},
   "outputs": [
    {
     "data": {
      "text/plain": [
       "20"
      ]
     },
     "execution_count": 6,
     "metadata": {},
     "output_type": "execute_result"
    }
   ],
   "source": [
    "dump()"
   ]
  },
  {
   "cell_type": "code",
   "execution_count": 7,
   "metadata": {},
   "outputs": [
    {
     "name": "stdout",
     "output_type": "stream",
     "text": [
      "20\n"
     ]
    }
   ],
   "source": [
    "print(dump())"
   ]
  },
  {
   "cell_type": "code",
   "execution_count": 8,
   "metadata": {},
   "outputs": [],
   "source": [
    "#palindrome\n",
    "def palindrome(s):\n",
    "    s1=s[::-1]\n",
    "    if(s==s1):\n",
    "        return True\n",
    "    return False"
   ]
  },
  {
   "cell_type": "code",
   "execution_count": 9,
   "metadata": {},
   "outputs": [
    {
     "data": {
      "text/plain": [
       "True"
      ]
     },
     "execution_count": 9,
     "metadata": {},
     "output_type": "execute_result"
    }
   ],
   "source": [
    "palindrome(\"mom\")"
   ]
  },
  {
   "cell_type": "code",
   "execution_count": 10,
   "metadata": {},
   "outputs": [
    {
     "data": {
      "text/plain": [
       "'121'"
      ]
     },
     "execution_count": 10,
     "metadata": {},
     "output_type": "execute_result"
    }
   ],
   "source": [
    "a=121\n",
    "b=str(a) #str \n",
    "b"
   ]
  },
  {
   "cell_type": "code",
   "execution_count": 11,
   "metadata": {},
   "outputs": [],
   "source": [
    "def prime(n):\n",
    "    fcount=0 #counter variable\n",
    "    if(n==2):\n",
    "        return True\n",
    "    else:\n",
    "        for i in range(2,int(n/2)+1):\n",
    "            if(n%i==0):\n",
    "                fcount=fcount+1\n",
    "    if(fcount==0):\n",
    "         return True\n",
    "    return False"
   ]
  },
  {
   "cell_type": "code",
   "execution_count": 12,
   "metadata": {},
   "outputs": [
    {
     "data": {
      "text/plain": [
       "False"
      ]
     },
     "execution_count": 12,
     "metadata": {},
     "output_type": "execute_result"
    }
   ],
   "source": [
    "prime(25)"
   ]
  },
  {
   "cell_type": "code",
   "execution_count": null,
   "metadata": {},
   "outputs": [],
   "source": [
    "#take a input num from user and print\n",
    "n=int(input())\n",
    "prsum=0\n",
    "for i in range(1,n+1):\n",
    "    if(n%i==0):\n",
    "        if(prime(i)):\n",
    "            prsum=prsum+i\n",
    "print(prsum)\n",
    "    "
   ]
  },
  {
   "cell_type": "code",
   "execution_count": null,
   "metadata": {},
   "outputs": [],
   "source": [
    "#print all leap years in range\n",
    "def leap(a):\n",
    "    if((a%4==0 and a%100!=0)or(a%400==0)):\n",
    "        return True\n",
    "    return False\n",
    "for n in range(1980,2021):\n",
    "    if leap(n):\n",
    "        print(n)"
   ]
  },
  {
   "cell_type": "code",
   "execution_count": null,
   "metadata": {},
   "outputs": [],
   "source": [
    "fcount=0\n",
    "for n in range(1980,2021):\n",
    "   if leap(n):       #no.of leap years\n",
    "    fcount=fcount+1\n",
    "    \n",
    "print(fcount)"
   ]
  },
  {
   "cell_type": "code",
   "execution_count": null,
   "metadata": {},
   "outputs": [],
   "source": [
    "#print all even factors for given num\n",
    "def acts(8):\n",
    "   for i in range (1,n+1):\n",
    "    if(n%i==0):\n",
    "      print (i) \n"
   ]
  },
  {
   "cell_type": "code",
   "execution_count": null,
   "metadata": {},
   "outputs": [],
   "source": [
    "#print all prime nums in given range"
   ]
  },
  {
   "cell_type": "code",
   "execution_count": null,
   "metadata": {},
   "outputs": [],
   "source": [
    "#print no.of  primr factors for given no"
   ]
  },
  {
   "cell_type": "code",
   "execution_count": null,
   "metadata": {},
   "outputs": [],
   "source": [
    "#amstrong\n",
    "def armstrong(n):\n",
    "    sn=str(n)\n",
    "    arm=0\n",
    "    for i in sn:\n",
    "        arm=arm+(int(i)**3)\n",
    "    if(arm==n):\n",
    "        return True\n",
    "    return False"
   ]
  },
  {
   "cell_type": "code",
   "execution_count": null,
   "metadata": {},
   "outputs": [],
   "source": [
    "armstrong(135)"
   ]
  },
  {
   "cell_type": "code",
   "execution_count": null,
   "metadata": {},
   "outputs": [],
   "source": [
    "#total surface area of pyramid\n",
    "#square\n",
    "#rectangular\n",
    "#triangular\n",
    "#area of square +4*(area of triangle)\n",
    "#area of rectangle +4*(area of triangle h,len of 1 side)\n",
    "#area of triangle *4\n"
   ]
  },
  {
   "cell_type": "code",
   "execution_count": 6,
   "metadata": {},
   "outputs": [
    {
     "name": "stdout",
     "output_type": "stream",
     "text": [
      "enter type of pyramid 1-square pyramid 2-rectangular pyramid 3-triangular2\n",
      "length of rectangle43\n",
      "breadth of rect angle56\n",
      "height of pyramid45\n",
      "side of triangle67\n",
      "total surface area: 8438.0\n"
     ]
    }
   ],
   "source": [
    "n=int(input(\"enter type of pyramid 1-square pyramid 2-rectangular pyramid 3-triangular\"))\n",
    "if(n==1):\n",
    "        square()\n",
    "if(n==2):\n",
    "        rectangle()\n",
    "if(n==3):\n",
    "    \n",
    "        triangular()"
   ]
  },
  {
   "cell_type": "code",
   "execution_count": 1,
   "metadata": {},
   "outputs": [],
   "source": [
    "def square():\n",
    "    side = int(input(\"enter len of side of square\"))\n",
    "    height=int(input(\"enter height of pyramid\"))\n",
    "    print(\"total surface area:\",(side**2+4*(0.5*height*side)))"
   ]
  },
  {
   "cell_type": "code",
   "execution_count": 2,
   "metadata": {},
   "outputs": [],
   "source": [
    "def rectangle():\n",
    "    length=int(input(\"length of rectangle\"))\n",
    "    breadth=int(input(\"breadth of rect angle\"))\n",
    "    height=int(input(\"height of pyramid\"))\n",
    "    side=int(input(\"side of triangle\"))\n",
    "    print(\"total surface area:\",((length*breadth)+4*(0.5*height*side)))"
   ]
  },
  {
   "cell_type": "code",
   "execution_count": 4,
   "metadata": {},
   "outputs": [],
   "source": [
    "def triangular():\n",
    "    side=int(input(\"enteer side of triangular\"))\n",
    "    print(\"total surface area:\",(4*(0.5*(side)**2)))"
   ]
  },
  {
   "cell_type": "code",
   "execution_count": null,
   "metadata": {},
   "outputs": [],
   "source": []
  }
 ],
 "metadata": {
  "kernelspec": {
   "display_name": "Python 3",
   "language": "python",
   "name": "python3"
  },
  "language_info": {
   "codemirror_mode": {
    "name": "ipython",
    "version": 3
   },
   "file_extension": ".py",
   "mimetype": "text/x-python",
   "name": "python",
   "nbconvert_exporter": "python",
   "pygments_lexer": "ipython3",
   "version": "3.7.4"
  }
 },
 "nbformat": 4,
 "nbformat_minor": 2
}
